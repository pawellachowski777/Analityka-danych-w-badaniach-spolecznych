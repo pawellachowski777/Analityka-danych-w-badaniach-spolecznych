{
 "cells": [
  {
   "cell_type": "code",
   "execution_count": 56,
   "id": "initial_id",
   "metadata": {
    "collapsed": true,
    "ExecuteTime": {
     "end_time": "2023-10-17T07:03:26.713692600Z",
     "start_time": "2023-10-17T07:03:26.696295400Z"
    }
   },
   "outputs": [],
   "source": [
    "import requests\n",
    "from bs4 import BeautifulSoup\n",
    "import pandas as pd\n",
    "import re\n",
    "import ast"
   ]
  },
  {
   "cell_type": "markdown",
   "source": [
    "## Pobranie danych i zapis jako \"powazki.csv\""
   ],
   "metadata": {
    "collapsed": false
   },
   "id": "aa9cf3b349fc6369"
  },
  {
   "cell_type": "code",
   "execution_count": 64,
   "outputs": [],
   "source": [
    "# Link to the page\n",
    "link = \"https://pl.wikipedia.org/wiki/Pochowani_na_Cmentarzu_Wojskowym_na_Pow%C4%85zkach\"\n",
    "# Request the content of the page\n",
    "page = requests.get(link)\n",
    "soup = BeautifulSoup(page.content, 'html.parser')\n",
    "\n",
    "# Extracting places with names and surnames of deputies and extracting text\n",
    "html = soup.select(\"li:not([class])\")\n",
    "\n",
    "# # Searching for the appropriate selectors\n",
    "names = [a.get('title') for li in html for a in li.select(\"a\") ]\n",
    "# if a and a.get('title') is not None\n",
    "links = [a.get('href') for li in html for a in li.select(\"a\")]\n",
    "#\n",
    "# Eliminacja stron nieodnoszących się do haseł\n",
    "not_wiki = [not re.search(\"https\", href) for href in links]\n",
    "names = [im for i, im in enumerate(names) if not_wiki[i]]\n",
    "links = [odn for odn in links if not re.search(\"https\", odn)]\n",
    "\n",
    "# Creating a DataFrame\n",
    "df = pd.DataFrame({'imie_nazwisko': names, 'odnosniki': links})\n",
    "df = df.dropna()\n",
    "\n",
    "# Function to download pages\n",
    "def sciaganie(x):\n",
    "    x = \"https://pl.wikipedia.org\" + x\n",
    "    linkx = requests.get(x)\n",
    "    stronax = BeautifulSoup(linkx.content, 'html.parser').select(\".mw-parser-output p\")\n",
    "    return [strona.get_text() for strona in stronax]\n",
    "\n",
    "# Downloading pages\n",
    "# tu ograniczam tabelkę do 10 pierwszych wierszy, żeby skrypt wykonywał się szybciej\n",
    "# df = df.loc[0:20]\n",
    "stronywiki = [sciaganie(odn) for odn in df['odnosniki']]\n",
    "df['stronywiki'] = stronywiki\n",
    "df = df[df['stronywiki'].str.len() != 0].copy()\n",
    "\n",
    "# Saving as CSV\n",
    "df.to_csv('powazki.csv', encoding='utf-8', index=False)"
   ],
   "metadata": {
    "collapsed": false,
    "ExecuteTime": {
     "end_time": "2023-10-17T07:10:48.506563400Z",
     "start_time": "2023-10-17T07:06:24.484572700Z"
    }
   },
   "id": "2f2fe613048b9de0"
  },
  {
   "cell_type": "markdown",
   "source": [
    "## Wczytanie csv, operacje na tekście, zapis jako \"powazki_przerobione.csv\""
   ],
   "metadata": {
    "collapsed": false
   },
   "id": "d60aad3e7a437bbc"
  },
  {
   "cell_type": "code",
   "execution_count": 77,
   "outputs": [],
   "source": [
    "df = pd.read_csv('powazki.csv')\n",
    "df['stronywiki'] = df['stronywiki'].apply(ast.literal_eval)"
   ],
   "metadata": {
    "collapsed": false,
    "ExecuteTime": {
     "end_time": "2023-10-17T07:16:40.135359100Z",
     "start_time": "2023-10-17T07:16:39.890637100Z"
    }
   },
   "id": "d2a8aa73e9ceba2b"
  },
  {
   "cell_type": "code",
   "execution_count": 78,
   "outputs": [
    {
     "name": "stderr",
     "output_type": "stream",
     "text": [
      "C:\\Users\\PawełLachowski\\AppData\\Local\\Temp\\ipykernel_3096\\1289084466.py:15: FutureWarning: Setting an item of incompatible dtype is deprecated and will raise in a future error of pandas. Value '6 grudnia 1906' has dtype incompatible with float64, please explicitly cast to a compatible dtype first.\n",
      "  df.loc[index, 'data_urodzenia'] = ' '.join(row_list[0:3])\n",
      "C:\\Users\\PawełLachowski\\AppData\\Local\\Temp\\ipykernel_3096\\1289084466.py:16: FutureWarning: Setting an item of incompatible dtype is deprecated and will raise in a future error of pandas. Value 'Łódź' has dtype incompatible with float64, please explicitly cast to a compatible dtype first.\n",
      "  df.loc[index, 'miejsce_urodzenia'] = ' '.join(row_list[3:])\n",
      "C:\\Users\\PawełLachowski\\AppData\\Local\\Temp\\ipykernel_3096\\1289084466.py:20: FutureWarning: Setting an item of incompatible dtype is deprecated and will raise in a future error of pandas. Value '7 czerwca 1980' has dtype incompatible with float64, please explicitly cast to a compatible dtype first.\n",
      "  df.loc[index, 'data_smierci'] = ' '.join(row_list[0:3])\n",
      "C:\\Users\\PawełLachowski\\AppData\\Local\\Temp\\ipykernel_3096\\1289084466.py:21: FutureWarning: Setting an item of incompatible dtype is deprecated and will raise in a future error of pandas. Value 'Warszawa' has dtype incompatible with float64, please explicitly cast to a compatible dtype first.\n",
      "  df.loc[index, 'miejsce_smierci'] = ' '.join(row_list[3:])\n"
     ]
    }
   ],
   "source": [
    "def regex_operation(df, pattern, line_to_serach_in, new_column_name):\n",
    "    df[new_column_name] = [re.findall(pattern, strony[line_to_serach_in]) for strony in df['stronywiki']]\n",
    "    # usuwam puste\n",
    "    df = df[df[new_column_name].str.len() != 0].copy()\n",
    "  \n",
    "    return df\n",
    "\n",
    "# dodaje polskie znaki, tworzę kolumny ur i zm z danymi do dalszego procesowania\n",
    "df = regex_operation(df, r'\\d+ [A-Za-zżźćńółęąśŻŹĆĄŚĘŁÓŃ, ]+ \\d{4} [A-Za-zżźćńółęąśŻŹĆĄŚĘŁÓŃ, ]+', 0, 'ur')\n",
    "df = regex_operation(df, r'\\d+ [A-Za-zżźćńółęąśŻŹĆĄŚĘŁÓŃ, ]+ \\d{4} [A-Za-zżźćńółęąśŻŹĆĄŚĘŁÓŃ, ]+', 1, 'zm')\n",
    "\n",
    "# wyciągnięcie dat i miejsca z kolumn ur i zm\n",
    "for index, row in df['ur'].items():\n",
    "    row_list = row[0].split(' ')\n",
    "    df.loc[index, 'data_urodzenia'] = ' '.join(row_list[0:3])\n",
    "    df.loc[index, 'miejsce_urodzenia'] = ' '.join(row_list[3:])\n",
    "\n",
    "for index, row in df['zm'].items():\n",
    "    row_list = row[0].split(' ')\n",
    "    df.loc[index, 'data_smierci'] = ' '.join(row_list[0:3])\n",
    "    df.loc[index, 'miejsce_smierci'] = ' '.join(row_list[3:])\n",
    "\n",
    "df.drop(columns=['ur', 'zm', 'stronywiki', 'odnosniki'], inplace=True)\n",
    "\n",
    "# usunięcie nawisów z imienia i nazwiska\n",
    "pattern = r'\\([^)]*\\)'\n",
    "df['imie_nazwisko'] = df['imie_nazwisko'].str.replace(pattern, '', regex=True).str.strip()\n"
   ],
   "metadata": {
    "collapsed": false,
    "ExecuteTime": {
     "end_time": "2023-10-17T07:16:40.365951300Z",
     "start_time": "2023-10-17T07:16:40.232770Z"
    }
   },
   "id": "ee13b2d919608555"
  },
  {
   "cell_type": "code",
   "execution_count": 79,
   "outputs": [],
   "source": [
    "df.to_csv('powazki_przerobione.csv', encoding='utf-16', sep=';', index=False)"
   ],
   "metadata": {
    "collapsed": false,
    "ExecuteTime": {
     "end_time": "2023-10-17T07:16:42.753538300Z",
     "start_time": "2023-10-17T07:16:42.726650400Z"
    }
   },
   "id": "b192f262564889e5"
  }
 ],
 "metadata": {
  "kernelspec": {
   "display_name": "Python 3",
   "language": "python",
   "name": "python3"
  },
  "language_info": {
   "codemirror_mode": {
    "name": "ipython",
    "version": 2
   },
   "file_extension": ".py",
   "mimetype": "text/x-python",
   "name": "python",
   "nbconvert_exporter": "python",
   "pygments_lexer": "ipython2",
   "version": "2.7.6"
  }
 },
 "nbformat": 4,
 "nbformat_minor": 5
}
